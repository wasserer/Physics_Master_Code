{
 "cells": [
  {
   "cell_type": "markdown",
   "id": "81f93f64",
   "metadata": {},
   "source": [
    "# XRD Analyzer Notebook\n",
    "This is an universal jupyternotebook template to do XRD Plots"
   ]
  },
  {
   "cell_type": "markdown",
   "id": "94cafee0",
   "metadata": {},
   "source": [
    "Import Relevent modules:"
   ]
  },
  {
   "cell_type": "code",
   "execution_count": 4,
   "id": "1e39f73f",
   "metadata": {},
   "outputs": [],
   "source": [
    "import numpy as numpy\n",
    "from plot_module.xrd_analyzer import XRDAnalyzer\n",
    "import os\n",
    "import math\n",
    "from plot_module.colors import color"
   ]
  },
  {
   "cell_type": "markdown",
   "id": "f38054b1",
   "metadata": {},
   "source": [
    "## Import the data:\n",
    "Important: The import method for a single data and multipule data is different!\n",
    "- First, get the file location or the folder location:"
   ]
  },
  {
   "cell_type": "code",
   "execution_count": null,
   "id": "3f327285",
   "metadata": {},
   "outputs": [],
   "source": [
    "xrdPath = '/Users/ruodongyang/Documents/Resilio_Sync/TUM Master Physik/Pervoskite Space(Master)/Data/XRD/26062025/S.txt'\n",
    "folderPath = \"\"\n",
    "vestaFile = \"\"\n",
    "fileType = \"5000 RPM, 20s Anti solvent\"\n",
    "savePath = '/Users/ruodongyang/Documents/Resilio_Sync/TUM Master Physik/Pervoskite Space(Master)/Data/XRD/26062025/S_Result/n.png'"
   ]
  },
  {
   "cell_type": "markdown",
   "id": "f57c4988",
   "metadata": {},
   "source": [
    "##### Set up the color:\n",
    "- Here I use matlab color as an example, other colors is also possible"
   ]
  },
  {
   "cell_type": "code",
   "execution_count": 6,
   "id": "53266702",
   "metadata": {},
   "outputs": [],
   "source": [
    "figColor = color.matlab()"
   ]
  },
  {
   "cell_type": "markdown",
   "id": "133137d0",
   "metadata": {},
   "source": [
    "#### Import a single XRD data:"
   ]
  },
  {
   "cell_type": "code",
   "execution_count": 7,
   "id": "d695bc2a",
   "metadata": {},
   "outputs": [],
   "source": [
    "#No changes required\n",
    "analyzer = XRDAnalyzer()\n",
    "analyzer.import_xrd_data(labelName=fileType, pathName=xrdPath)\n",
    "analyzer.normalize()\n"
   ]
  },
  {
   "cell_type": "markdown",
   "id": "6804d1ef",
   "metadata": {},
   "source": [
    "#### If baseline-correctioin is needed:"
   ]
  },
  {
   "cell_type": "code",
   "execution_count": 8,
   "id": "af1b055a",
   "metadata": {},
   "outputs": [],
   "source": [
    "analyzer.baselineCorrection()"
   ]
  },
  {
   "cell_type": "markdown",
   "id": "94bfaa06",
   "metadata": {},
   "source": [
    "#### Import a XRD folder(**MULTI PLOT**):"
   ]
  },
  {
   "cell_type": "code",
   "execution_count": null,
   "id": "2e7c63e4",
   "metadata": {},
   "outputs": [],
   "source": [
    "analyzer.import_xrd_folder(folderPath=folderPath)"
   ]
  },
  {
   "cell_type": "markdown",
   "id": "bd15b2be",
   "metadata": {},
   "source": [
    "#### (Optional) Add VESTA data(Simulated data):"
   ]
  },
  {
   "cell_type": "code",
   "execution_count": null,
   "id": "64577a4a",
   "metadata": {},
   "outputs": [],
   "source": [
    "analyzer.import_vesta_data(vestaPath=vestaFile)"
   ]
  },
  {
   "cell_type": "markdown",
   "id": "c9468a04",
   "metadata": {},
   "source": [
    "#### (Optional) Analyze the peaks:"
   ]
  },
  {
   "cell_type": "code",
   "execution_count": null,
   "id": "200e7e25",
   "metadata": {},
   "outputs": [],
   "source": [
    "analyzer.find_peaks_and_FWHM(log=True) #If there is no log required, delete \"log = True\""
   ]
  },
  {
   "cell_type": "markdown",
   "id": "8f8f332c",
   "metadata": {},
   "source": [
    "#### Plot the single XRD data:\n",
    "- If it requires peak labeling, add (findPeaks = True)"
   ]
  },
  {
   "cell_type": "code",
   "execution_count": 10,
   "id": "d429b4f0",
   "metadata": {},
   "outputs": [],
   "source": [
    "analyzer.plotXRD(graphColor=figColor, saveFolderPath=savePath)"
   ]
  },
  {
   "cell_type": "markdown",
   "id": "b1c18eb6",
   "metadata": {},
   "source": [
    "#### Plot a multi XRD Plot:"
   ]
  },
  {
   "cell_type": "code",
   "execution_count": null,
   "id": "15848776",
   "metadata": {},
   "outputs": [],
   "source": [
    "analyzer.multiXRD(graphColor=color)"
   ]
  }
 ],
 "metadata": {
  "kernelspec": {
   "display_name": "base",
   "language": "python",
   "name": "python3"
  },
  "language_info": {
   "codemirror_mode": {
    "name": "ipython",
    "version": 3
   },
   "file_extension": ".py",
   "mimetype": "text/x-python",
   "name": "python",
   "nbconvert_exporter": "python",
   "pygments_lexer": "ipython3",
   "version": "3.10.13"
  }
 },
 "nbformat": 4,
 "nbformat_minor": 5
}
