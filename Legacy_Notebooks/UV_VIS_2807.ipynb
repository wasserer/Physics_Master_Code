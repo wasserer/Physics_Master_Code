{
 "cells": [
  {
   "cell_type": "markdown",
   "id": "c1c6fe65",
   "metadata": {},
   "source": [
    "#Add title and description!!!\n"
   ]
  },
  {
   "cell_type": "code",
   "execution_count": 13,
   "id": "97d4e292",
   "metadata": {},
   "outputs": [],
   "source": [
    "import numpy as np\n",
    "from plot_module.UVVIS_analyzer import UV_VIS_Analyzer\n",
    "from plot_module.Spectra import Spectroscopy"
   ]
  },
  {
   "cell_type": "code",
   "execution_count": 9,
   "id": "598d7d4f",
   "metadata": {},
   "outputs": [],
   "source": [
    "folder = '/Users/ruodongyang/Documents/Resilio_Sync/TUM Master Physik/Pervoskite Space(Master)/Data/UV-VIS/28_07_Chenshu_T/Analyzer'"
   ]
  },
  {
   "cell_type": "code",
   "execution_count": 14,
   "id": "c1498185",
   "metadata": {},
   "outputs": [],
   "source": [
    "analyzer_Spectra = Spectroscopy(folderPath=folder)\n",
    "analyzer = UV_VIS_Analyzer(folderPath=folder, tauc=False)"
   ]
  },
  {
   "cell_type": "code",
   "execution_count": 16,
   "id": "1b5636e0",
   "metadata": {},
   "outputs": [
    {
     "data": {
      "text/plain": [
       "[]"
      ]
     },
     "execution_count": 16,
     "metadata": {},
     "output_type": "execute_result"
    }
   ],
   "source": [
    "analyzer_Spectra.wavelengths"
   ]
  }
 ],
 "metadata": {
  "kernelspec": {
   "display_name": "base",
   "language": "python",
   "name": "python3"
  },
  "language_info": {
   "codemirror_mode": {
    "name": "ipython",
    "version": 3
   },
   "file_extension": ".py",
   "mimetype": "text/x-python",
   "name": "python",
   "nbconvert_exporter": "python",
   "pygments_lexer": "ipython3",
   "version": "3.10.13"
  }
 },
 "nbformat": 4,
 "nbformat_minor": 5
}
